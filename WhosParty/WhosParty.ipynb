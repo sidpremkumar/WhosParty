{
 "cells": [
  {
   "cell_type": "code",
   "execution_count": 1,
   "metadata": {},
   "outputs": [],
   "source": [
    "from igramscraper.instagram import Instagram\n",
    "from tqdm import tqdm\n",
    "\n",
    "# from detect_gender import DetectGender\n",
    "\n",
    "import tempfile\n",
    "import urllib.request"
   ]
  },
  {
   "cell_type": "code",
   "execution_count": 3,
   "metadata": {},
   "outputs": [
    {
     "data": {
      "text/plain": [
       "{'cookie': 'csrftoken=9ebiDTmi2I9knOXLtKWRwoUEQCM7TooL; ds_user_id=1415761657; ig_did=6032C228-ADA5-462A-AAFD-8EE6172FD4A1; rur=FTW; sessionid=1415761657%3AI7jZbo1eYxkWg7%3A4; shbid=11014; shbts=1587661877.7131085; mid=XqHMNAAEAAGcRB3fZ57t2oxJcA8H; ',\n",
       " 'referer': 'https://www.instagram.com/',\n",
       " 'x-csrftoken': '9ebiDTmi2I9knOXLtKWRwoUEQCM7TooL',\n",
       " 'user-agent': 'Mozilla/5.0 (Macintosh; Intel Mac OS X 10_13_4) AppleWebKit/537.36 (KHTML, like Gecko) Chrome/66.0.3359.139 Safari/537.36'}"
      ]
     },
     "execution_count": 3,
     "metadata": {},
     "output_type": "execute_result"
    }
   ],
   "source": [
    "# detector = DetectGender()\n",
    "\n",
    "instagram = Instagram()\n",
    "instagram.with_credentials('therealsidpremkumar', 'Sidhartha98', '/Users/sidpremkumar/Documents/Projects/WhosParty/WhosParty')\n",
    "instagram.login(force=False,two_step_verificator=True)"
   ]
  },
  {
   "cell_type": "code",
   "execution_count": 7,
   "metadata": {},
   "outputs": [
    {
     "name": "stdout",
     "output_type": "stream",
     "text": [
      "https://instagram.fnyc1-1.fna.fbcdn.net/v/t51.2885-19/s150x150/16123627_1826526524262048_8535256149333639168_n.jpg?_nc_ht=instagram.fnyc1-1.fna.fbcdn.net&_nc_ohc=5lWz02wGLEwAX8C_wo8&oh=2afb5ca220bbb601f7e4dccf5e54f88c&oe=5EC9F858\n"
     ]
    }
   ],
   "source": [
    "account = instagram.get_account(\"barackobama\")\n",
    "print(account.profile_pic_url)"
   ]
  },
  {
   "cell_type": "code",
   "execution_count": 8,
   "metadata": {},
   "outputs": [
    {
     "name": "stderr",
     "output_type": "stream",
     "text": [
      "100%|██████████| 100/100 [08:04<00:00,  4.85s/it]"
     ]
    },
    {
     "name": "stdout",
     "output_type": "stream",
     "text": [
      "{0: 8, 1: 54, -1: 38}\n"
     ]
    },
    {
     "name": "stderr",
     "output_type": "stream",
     "text": [
      "\n"
     ]
    }
   ],
   "source": [
    "def scrape_account(account):\n",
    "    \"\"\"\n",
    "    Scrapes Instagram account\n",
    "    :param igramscraper.model.account.Account account: Instagram account to scrape\n",
    "    \"\"\"\n",
    "    # Create temp file and download profile picture\n",
    "    tmpfile = tempfile.NamedTemporaryFile(delete=False)\n",
    "    urllib.request.urlretrieve(str(account.profile_pic_url), tmpfile.name)\n",
    "    \n",
    "    # Classify the image\n",
    "    try:\n",
    "        weights, classes = detector.classifyImage(tmpfile.name)\n",
    "\n",
    "        # Close the temp file\n",
    "        tmpfile.close()\n",
    "\n",
    "        if (weights[0] > weights[1]):\n",
    "            return 1\n",
    "        else:\n",
    "            return 0\n",
    "    except Exception as e:\n",
    "        return -1\n",
    "    \n",
    "def loop_account(username):\n",
    "    \"\"\"\n",
    "    Loops over a usernames followers\n",
    "    :param String username: Instagram username\n",
    "    Returns ??\n",
    "    \"\"\"\n",
    "    account = instagram.get_account(username)\n",
    "    followers = instagram.get_followers(account.identifier, 100, 100, delayed=True)\n",
    "    running_total = {0: 0, 1: 0, -1: 0}\n",
    "    for i in tqdm(range(len(followers['accounts']))):\n",
    "        follower = followers['accounts'][i]\n",
    "        if follower.profile_pic_url:\n",
    "            classifier = scrape_account(follower)\n",
    "            running_total[classifier] += 1\n",
    "    print(running_total)\n",
    "\n",
    "loop_account('barstoolsports')"
   ]
  },
  {
   "cell_type": "code",
   "execution_count": 10,
   "metadata": {},
   "outputs": [
    {
     "ename": "Exception",
     "evalue": "Could not read input image",
     "output_type": "error",
     "traceback": [
      "\u001b[0;31m---------------------------------------------------------------------------\u001b[0m",
      "\u001b[0;31mException\u001b[0m                                 Traceback (most recent call last)",
      "\u001b[0;32m<ipython-input-10-db9689e34f13>\u001b[0m in \u001b[0;36m<module>\u001b[0;34m\u001b[0m\n\u001b[0;32m----> 1\u001b[0;31m \u001b[0mdetector\u001b[0m\u001b[0;34m.\u001b[0m\u001b[0mclassifyImage\u001b[0m\u001b[0;34m(\u001b[0m\u001b[0;34m\"gender-detection-keras/test_picture1.jpg\"\u001b[0m\u001b[0;34m)\u001b[0m\u001b[0;34m\u001b[0m\u001b[0;34m\u001b[0m\u001b[0m\n\u001b[0m",
      "\u001b[0;32m~/Documents/Projects/WhosParty/WhosParty/detect_gender.py\u001b[0m in \u001b[0;36mclassifyImage\u001b[0;34m(self, file_path)\u001b[0m\n\u001b[1;32m     34\u001b[0m \u001b[0;34m\u001b[0m\u001b[0m\n\u001b[1;32m     35\u001b[0m                 \u001b[0;32mif\u001b[0m \u001b[0mimage\u001b[0m \u001b[0;32mis\u001b[0m \u001b[0;32mNone\u001b[0m\u001b[0;34m:\u001b[0m\u001b[0;34m\u001b[0m\u001b[0;34m\u001b[0m\u001b[0m\n\u001b[0;32m---> 36\u001b[0;31m                     \u001b[0;32mraise\u001b[0m \u001b[0mException\u001b[0m\u001b[0;34m(\u001b[0m\u001b[0;34m\"Could not read input image\"\u001b[0m\u001b[0;34m)\u001b[0m\u001b[0;34m\u001b[0m\u001b[0;34m\u001b[0m\u001b[0m\n\u001b[0m\u001b[1;32m     37\u001b[0m \u001b[0;34m\u001b[0m\u001b[0m\n\u001b[1;32m     38\u001b[0m                 \u001b[0;31m# load pre-trained model\u001b[0m\u001b[0;34m\u001b[0m\u001b[0;34m\u001b[0m\u001b[0;34m\u001b[0m\u001b[0m\n",
      "\u001b[0;31mException\u001b[0m: Could not read input image"
     ]
    }
   ],
   "source": [
    "detector.classifyImage(\"gender-detection-keras/test_picture1.jpeg\")"
   ]
  },
  {
   "cell_type": "code",
   "execution_count": null,
   "metadata": {},
   "outputs": [],
   "source": []
  }
 ],
 "metadata": {
  "kernelspec": {
   "display_name": "Python 3",
   "language": "python",
   "name": "python3"
  },
  "language_info": {
   "codemirror_mode": {
    "name": "ipython",
    "version": 3
   },
   "file_extension": ".py",
   "mimetype": "text/x-python",
   "name": "python",
   "nbconvert_exporter": "python",
   "pygments_lexer": "ipython3",
   "version": "3.7.6"
  }
 },
 "nbformat": 4,
 "nbformat_minor": 4
}
